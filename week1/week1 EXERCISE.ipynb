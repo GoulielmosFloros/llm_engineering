{
 "cells": [
  {
   "cell_type": "markdown",
   "id": "fe12c203-e6a6-452c-a655-afb8a03a4ff5",
   "metadata": {},
   "source": [
    "# End of week 1 exercise\n",
    "\n",
    "To demonstrate your familiarity with OpenAI API, and also Ollama, build a tool that takes a technical question,  \n",
    "and responds with an explanation. This is a tool that you will be able to use yourself during the course!"
   ]
  },
  {
   "cell_type": "code",
   "execution_count": 42,
   "id": "c1070317-3ed9-4659-abe3-828943230e03",
   "metadata": {},
   "outputs": [],
   "source": [
    "# imports\n",
    "\n",
    "import os\n",
    "import requests\n",
    "import json\n",
    "import ollama\n",
    "from openai import OpenAI\n",
    "from dotenv import load_dotenv\n",
    "from IPython.display import Markdown, display, update_display"
   ]
  },
  {
   "cell_type": "code",
   "execution_count": 43,
   "id": "4a456906-915a-4bfd-bb9d-57e505c5093f",
   "metadata": {},
   "outputs": [],
   "source": [
    "# constants\n",
    "\n",
    "MODEL_GPT = 'gpt-4o-mini'\n",
    "MODEL_LLAMA = 'llama3.2'"
   ]
  },
  {
   "cell_type": "code",
   "execution_count": 44,
   "id": "a8d7923c-5f28-4c30-8556-342d7c8497c1",
   "metadata": {},
   "outputs": [
    {
     "name": "stdout",
     "output_type": "stream",
     "text": [
      "API key looks good so far\n"
     ]
    },
    {
     "name": "stderr",
     "output_type": "stream",
     "text": [
      "\u001b[?2026h\u001b[?25l\u001b[1Gpulling manifest â ‹ \u001b[K\u001b[?25h\u001b[?2026l\u001b[?2026h\u001b[?25l\u001b[1Gpulling manifest â ™ \u001b[K\u001b[?25h\u001b[?2026l\u001b[?2026h\u001b[?25l\u001b[1Gpulling manifest â ¹ \u001b[K\u001b[?25h\u001b[?2026l\u001b[?2026h\u001b[?25l\u001b[1Gpulling manifest â ¸ \u001b[K\u001b[?25h\u001b[?2026l\u001b[?2026h\u001b[?25l\u001b[1Gpulling manifest â ¼ \u001b[K\u001b[?25h\u001b[?2026l\u001b[?2026h\u001b[?25l\u001b[1Gpulling manifest \u001b[K\n",
      "pulling dde5aa3fc5ff... 100% â–•â–ˆâ–ˆâ–ˆâ–ˆâ–ˆâ–ˆâ–ˆâ–ˆâ–ˆâ–ˆâ–ˆâ–ˆâ–ˆâ–ˆâ–ˆâ–ˆâ–� 2.0 GB                         \u001b[K\n",
      "pulling 966de95ca8a6... 100% â–•â–ˆâ–ˆâ–ˆâ–ˆâ–ˆâ–ˆâ–ˆâ–ˆâ–ˆâ–ˆâ–ˆâ–ˆâ–ˆâ–ˆâ–ˆâ–ˆâ–� 1.4 KB                         \u001b[K\n",
      "pulling fcc5a6bec9da... 100% â–•â–ˆâ–ˆâ–ˆâ–ˆâ–ˆâ–ˆâ–ˆâ–ˆâ–ˆâ–ˆâ–ˆâ–ˆâ–ˆâ–ˆâ–ˆâ–ˆâ–� 7.7 KB                         \u001b[K\n",
      "pulling a70ff7e570d9... 100% â–•â–ˆâ–ˆâ–ˆâ–ˆâ–ˆâ–ˆâ–ˆâ–ˆâ–ˆâ–ˆâ–ˆâ–ˆâ–ˆâ–ˆâ–ˆâ–ˆâ–� 6.0 KB                         \u001b[K\n",
      "pulling 56bb8bd477a5... 100% â–•â–ˆâ–ˆâ–ˆâ–ˆâ–ˆâ–ˆâ–ˆâ–ˆâ–ˆâ–ˆâ–ˆâ–ˆâ–ˆâ–ˆâ–ˆâ–ˆâ–�   96 B                         \u001b[K\n",
      "pulling 34bb5ab01051... 100% â–•â–ˆâ–ˆâ–ˆâ–ˆâ–ˆâ–ˆâ–ˆâ–ˆâ–ˆâ–ˆâ–ˆâ–ˆâ–ˆâ–ˆâ–ˆâ–ˆâ–�  561 B                         \u001b[K\n",
      "verifying sha256 digest \u001b[K\n",
      "writing manifest \u001b[K\n",
      "success \u001b[K\u001b[?25h\u001b[?2026l\n"
     ]
    }
   ],
   "source": [
    "# set up environment\n",
    "\n",
    "!ollama pull llama3.2\n",
    "\n",
    "load_dotenv(override=True)\n",
    "api_key = os.getenv('OPENAI_API_KEY')\n",
    "\n",
    "if api_key and api_key.startswith('sk-proj-') and len(api_key)>10:\n",
    "    print(\"API key looks good so far\")\n",
    "else:\n",
    "    print(\"There might be a problem with your API key? Please visit the troubleshooting notebook!\")\n",
    "    \n",
    "openai = OpenAI()"
   ]
  },
  {
   "cell_type": "code",
   "execution_count": 51,
   "id": "3f0d0137-52b0-47a8-81a8-11a90a010798",
   "metadata": {},
   "outputs": [
    {
     "name": "stdin",
     "output_type": "stream",
     "text": [
      "Please enter your question: Write a function for Newton's first law\n"
     ]
    }
   ],
   "source": [
    "# here is the question; type over this to ask something new\n",
    "\n",
    "my_question = input(\"Please enter your question:\")"
   ]
  },
  {
   "cell_type": "code",
   "execution_count": 47,
   "id": "1a71298e-4b88-4107-921f-d79dd0d3a416",
   "metadata": {},
   "outputs": [],
   "source": [
    "\n",
    "system_prompt=\"You are an assistant with expertise in coding languages, especially python. \\\n",
    "You are answering questions with a particular focus on Data Science topics such as LLMs. \\\n",
    "Moreover, take into account that you need to explain things in an understandable way that even non-technical users can understand. \\\n",
    "It needs to be clear which part of it is code and which part you give explainations\"\n",
    "    \n",
    "def create_prompts(my_question):\n",
    "    user_prompt=\"Please give an explanation of the following question\" + my_question\n",
    "    \n",
    "    messages=[\n",
    "                {\"role\": \"system\", \"content\": system_prompt},\n",
    "                {\"role\": \"user\", \"content\": user_prompt}\n",
    "          ]\n",
    "    return messages"
   ]
  },
  {
   "cell_type": "code",
   "execution_count": 48,
   "id": "ac4320b4-1354-440e-b00a-b689f7282e32",
   "metadata": {},
   "outputs": [],
   "source": [
    "def answer_question(my_question, MODEL):\n",
    "    if MODEL==MODEL_GPT:\n",
    "        stream = openai.chat.completions.create(\n",
    "            model=MODEL,\n",
    "            messages=create_prompts(my_question),\n",
    "            stream=True\n",
    "        )\n",
    "        \n",
    "        response = \"\"\n",
    "        display_handle = display(Markdown(\"\"), display_id=True)\n",
    "        for chunk in stream:\n",
    "            response += chunk.choices[0].delta.content or ''\n",
    "            response = response.replace(\"```\",\"\").replace(\"markdown\", \"\")\n",
    "            update_display(Markdown(response), display_id=display_handle.display_id)\n",
    "    else:\n",
    "        response = ollama.chat(model=MODEL, messages=create_prompts(my_question))\n",
    "        result = response['message']['content']\n",
    "        display(Markdown(result))"
   ]
  },
  {
   "cell_type": "code",
   "execution_count": 49,
   "id": "2f4ada7a-515f-4246-9f66-a4788a06f72e",
   "metadata": {
    "scrolled": true
   },
   "outputs": [
    {
     "data": {
      "text/markdown": [
       "Sure! Newton's First Law, often referred to as the law of inertia, states that an object at rest will stay at rest, and an object in motion will continue to move at a constant speed in a straight line unless acted upon by a net external force. \n",
       "\n",
       "In a coding context, when we write a function to illustrate Newton's First Law, we might create a simulation that determines the motion of an object based on its current state (at rest or in motion) and whether any external forces are acting on it.\n",
       "\n",
       "Here's a simple Python function that demonstrates this principle:\n",
       "\n",
       "python\n",
       "def newtons_first_law(position, velocity, external_force):\n",
       "    \"\"\"\n",
       "    Function to demonstrate Newton's First Law.\n",
       "    \n",
       "    Parameters:\n",
       "    position (float): The current position of the object.\n",
       "    velocity (float): The current velocity of the object.\n",
       "    external_force (float): The net external force acting on the object.\n",
       "\n",
       "    Returns:\n",
       "    float: The new position of the object after one time unit.\n",
       "    \"\"\"\n",
       "    \n",
       "    # If there is no external force, the object continues its motion\n",
       "    if external_force == 0:\n",
       "        new_position = position + velocity  # move to a new position\n",
       "    else:\n",
       "        new_position = position  # stay at the same position since an external force has acted\n",
       "    \n",
       "    return new_position\n",
       "\n",
       "\n",
       "### Explanation of the Code:\n",
       "\n",
       "- **Function Definition**: The function `newtons_first_law` takes three arguments: \n",
       "  - `position`: where the object currently is.\n",
       "  - `velocity`: how fast and in what direction the object is moving.\n",
       "  - `external_force`: whether there is any external force acting on the object.\n",
       "\n",
       "- **Logic**:\n",
       "  - We check if the `external_force` is zero.\n",
       "    - If there is no force (`external_force == 0`), the object continues its current motion, so we calculate its new position by adding the velocity to the current position.\n",
       "    - If there is an external force, according to the law, we consider that the object does not move (or we could denote that the object's motion might change) since an external force has acted on it.\n",
       "\n",
       "- **Result**: The function returns the new position of the object.\n",
       "\n",
       "This simple function illustrates Newton's First Law of Motion in a basic way. It helps in understanding how objects behave under the influence of forces."
      ],
      "text/plain": [
       "<IPython.core.display.Markdown object>"
      ]
     },
     "metadata": {},
     "output_type": "display_data"
    }
   ],
   "source": [
    "# Get gpt-4o-mini to answer, with streaming\n",
    "\n",
    "answer_question(my_question, MODEL_GPT)"
   ]
  },
  {
   "cell_type": "code",
   "execution_count": 52,
   "id": "8f7c8ea8-4082-4ad0-8751-3301adcf6538",
   "metadata": {
    "scrolled": true
   },
   "outputs": [
    {
     "data": {
      "text/markdown": [
       "**Newton's First Law: Inertia**\n",
       "\n",
       "Newton's first law, also known as the law of inertia, states that an object at rest will remain at rest, and an object in motion will continue to move with a constant velocity, unless acted upon by an external force.\n",
       "\n",
       "**Code Explanation: Newton's First Law Function**\n",
       "\n",
       "Here is a Python function that demonstrates Newton's first law:\n",
       "```python\n",
       "import numpy as np\n",
       "\n",
       "def newtons_first_law(mass, initial_velocity, time_step):\n",
       "    \"\"\"\n",
       "    Simulate the motion of an object under the influence of gravity.\n",
       "    \n",
       "    Parameters:\n",
       "    mass (float): The mass of the object in kg.\n",
       "    initial_velocity (float): The initial velocity of the object in m/s.\n",
       "    time_step (float): The time step for the simulation in seconds.\n",
       "    \n",
       "    Returns:\n",
       "    numpy array: The velocity and position of the object over time.\n",
       "    \"\"\"\n",
       "    \n",
       "    # Define constants\n",
       "    g = 9.81  # acceleration due to gravity in m/s^2\n",
       "    \n",
       "    # Initialize arrays to store velocity and position\n",
       "    velocity = np.zeros((int(time_step / time_step) + 1))\n",
       "    position = np.zeros((int(time_step / time_step) + 1))\n",
       "    \n",
       "    # Set initial conditions\n",
       "    velocity[0] = initial_velocity\n",
       "    position[0] = 0\n",
       "    \n",
       "    # Simulate motion over time steps\n",
       "    for i in range(1, int(time_step / time_step) + 1):\n",
       "        # Update velocity and position based on Newton's first law\n",
       "        acceleration = -g\n",
       "        velocity[i] = velocity[i-1] + acceleration * time_step\n",
       "        position[i] = position[i-1] + velocity[i] * time_step\n",
       "    \n",
       "    return velocity, position\n",
       "\n",
       "# Example usage:\n",
       "mass = 10  # kg\n",
       "initial_velocity = 5  # m/s\n",
       "time_step = 0.01  # s\n",
       "\n",
       "velocity, position = newtons_first_law(mass, initial_velocity, time_step)\n",
       "\n",
       "import matplotlib.pyplot as plt\n",
       "\n",
       "plt.plot(position)\n",
       "plt.xlabel('Time (s)')\n",
       "plt.ylabel('Position (m)')\n",
       "plt.title('Object Position Over Time')\n",
       "plt.show()\n",
       "```\n",
       "**Explanation:**\n",
       "\n",
       "In this code, we define a function `newtons_first_law` that takes three parameters:\n",
       "\n",
       "*   `mass`: the mass of the object in kg.\n",
       "*   `initial_velocity`: the initial velocity of the object in m/s.\n",
       "*   `time_step`: the time step for the simulation in seconds.\n",
       "\n",
       "The function returns two arrays, `velocity` and `position`, which represent the velocity and position of the object over time, respectively.\n",
       "\n",
       "Inside the function, we initialize arrays to store the velocity and position at each time step. We then set the initial conditions by setting the initial velocity and position to zero.\n",
       "\n",
       "Next, we simulate the motion of the object over time steps using a for loop. At each time step, we update the velocity and position based on Newton's first law, which states that an object will maintain its state unless acted upon by an external force (in this case, gravity).\n",
       "\n",
       "Finally, we return the updated velocity and position arrays.\n",
       "\n",
       "In the example usage section, we call the `newtons_first_law` function with a mass of 10 kg, an initial velocity of 5 m/s, and a time step of 0.01 s. We then plot the object's position over time using matplotlib to visualize the simulation.\n",
       "\n",
       "This code demonstrates how Newton's first law can be used to simulate the motion of an object under the influence of gravity, showcasing how objects will maintain their state unless acted upon by an external force."
      ],
      "text/plain": [
       "<IPython.core.display.Markdown object>"
      ]
     },
     "metadata": {},
     "output_type": "display_data"
    }
   ],
   "source": [
    "# Get Llama 3.2 to answer\n",
    "\n",
    "answer_question(my_question, MODEL_LLAMA)"
   ]
  },
  {
   "cell_type": "code",
   "execution_count": null,
   "id": "17bf1a3d-3490-4539-abad-8754cb7ee907",
   "metadata": {},
   "outputs": [],
   "source": []
  }
 ],
 "metadata": {
  "kernelspec": {
   "display_name": "Python 3 (ipykernel)",
   "language": "python",
   "name": "python3"
  },
  "language_info": {
   "codemirror_mode": {
    "name": "ipython",
    "version": 3
   },
   "file_extension": ".py",
   "mimetype": "text/x-python",
   "name": "python",
   "nbconvert_exporter": "python",
   "pygments_lexer": "ipython3",
   "version": "3.11.11"
  }
 },
 "nbformat": 4,
 "nbformat_minor": 5
}
